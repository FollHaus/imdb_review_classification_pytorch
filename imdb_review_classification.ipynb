{
 "cells": [
  {
   "metadata": {
    "ExecuteTime": {
     "end_time": "2025-02-19T13:16:08.501527Z",
     "start_time": "2025-02-19T13:16:08.495573Z"
    }
   },
   "cell_type": "code",
   "source": [
    "import os\n",
    "os.environ[\"TF_ENABLE_ONEDNN_OPTS\"] = \"0\"\n",
    "import re\n",
    "import torch\n",
    "import torch.nn as nn\n",
    "from datasets import load_dataset\n",
    "from IMDBDataset import IMDBDataset\n",
    "from torch.nn.utils import clip_grad_norm_\n",
    "from torch.utils.data import DataLoader, Dataset\n",
    "from transformers import RobertaForSequenceClassification, RobertaTokenizer"
   ],
   "id": "47336f8e89d676fd",
   "outputs": [],
   "execution_count": 22
  },
  {
   "metadata": {
    "ExecuteTime": {
     "end_time": "2025-02-19T13:16:16.803177Z",
     "start_time": "2025-02-19T13:16:08.525592Z"
    }
   },
   "cell_type": "code",
   "source": [
    "# Загрузка датасета IMDB\n",
    "dataset = load_dataset('imdb')\n",
    "# Проверяем доступность GPU\n",
    "device = 'cuda' if torch.cuda.is_available() else 'cpu'\n",
    "# Определяем модель\n",
    "model = 'roberta-base'"
   ],
   "id": "b098bdd915406ec8",
   "outputs": [],
   "execution_count": 23
  },
  {
   "metadata": {
    "ExecuteTime": {
     "end_time": "2025-02-19T13:16:16.814127Z",
     "start_time": "2025-02-19T13:16:16.810199Z"
    }
   },
   "cell_type": "code",
   "source": "print(f'Наш набор данных: {dataset}')",
   "id": "719f65632f161f58",
   "outputs": [
    {
     "name": "stdout",
     "output_type": "stream",
     "text": [
      "Наш набор данных: DatasetDict({\n",
      "    train: Dataset({\n",
      "        features: ['text', 'label'],\n",
      "        num_rows: 25000\n",
      "    })\n",
      "    test: Dataset({\n",
      "        features: ['text', 'label'],\n",
      "        num_rows: 25000\n",
      "    })\n",
      "    unsupervised: Dataset({\n",
      "        features: ['text', 'label'],\n",
      "        num_rows: 50000\n",
      "    })\n",
      "})\n"
     ]
    }
   ],
   "execution_count": 24
  },
  {
   "metadata": {
    "ExecuteTime": {
     "end_time": "2025-02-19T13:16:16.841362Z",
     "start_time": "2025-02-19T13:16:16.837347Z"
    }
   },
   "cell_type": "code",
   "source": [
    "# Проверка размера набора данных. Всего (50_000 отзывов)\n",
    "print(f'Размер тренировочной выборки: {len(dataset[\"train\"])}')\n",
    "print(f'Размер тестовой выборки: {len(dataset[\"test\"])}')"
   ],
   "id": "3b3a2a0bb6bdf151",
   "outputs": [
    {
     "name": "stdout",
     "output_type": "stream",
     "text": [
      "Размер тренировочной выборки: 25000\n",
      "Размер тестовой выборки: 25000\n"
     ]
    }
   ],
   "execution_count": 25
  },
  {
   "metadata": {},
   "cell_type": "markdown",
   "source": "#### Как видно из вывода, в данных присутствует много ненужных элементов, таких как HTML-символы, знаки препинания и другие.",
   "id": "8338dbe35cf98826"
  },
  {
   "metadata": {
    "ExecuteTime": {
     "end_time": "2025-02-19T13:16:16.937215Z",
     "start_time": "2025-02-19T13:16:16.856743Z"
    }
   },
   "cell_type": "code",
   "source": [
    "print(f'Первый отзыв: {dataset[\"train\"]['text'][0]}')\n",
    "print(f'Метка 1-го отзыва: {dataset[\"train\"]['label'][0]}')"
   ],
   "id": "3ae3a8c8fbc5e3cf",
   "outputs": [
    {
     "name": "stdout",
     "output_type": "stream",
     "text": [
      "Первый отзыв: I rented I AM CURIOUS-YELLOW from my video store because of all the controversy that surrounded it when it was first released in 1967. I also heard that at first it was seized by U.S. customs if it ever tried to enter this country, therefore being a fan of films considered \"controversial\" I really had to see this for myself.<br /><br />The plot is centered around a young Swedish drama student named Lena who wants to learn everything she can about life. In particular she wants to focus her attentions to making some sort of documentary on what the average Swede thought about certain political issues such as the Vietnam War and race issues in the United States. In between asking politicians and ordinary denizens of Stockholm about their opinions on politics, she has sex with her drama teacher, classmates, and married men.<br /><br />What kills me about I AM CURIOUS-YELLOW is that 40 years ago, this was considered pornographic. Really, the sex and nudity scenes are few and far between, even then it's not shot like some cheaply made porno. While my countrymen mind find it shocking, in reality sex and nudity are a major staple in Swedish cinema. Even Ingmar Bergman, arguably their answer to good old boy John Ford, had sex scenes in his films.<br /><br />I do commend the filmmakers for the fact that any sex shown in the film is shown for artistic purposes rather than just to shock people and make money to be shown in pornographic theaters in America. I AM CURIOUS-YELLOW is a good film for anyone wanting to study the meat and potatoes (no pun intended) of Swedish cinema. But really, this film doesn't have much of a plot.\n",
      "Метка 1-го отзыва: 0\n"
     ]
    }
   ],
   "execution_count": 26
  },
  {
   "metadata": {},
   "cell_type": "markdown",
   "source": "#### Избавляемся от лишних символов и преобразуем все данные в нижний регистр.",
   "id": "cc0340ea5b15f906"
  },
  {
   "metadata": {
    "ExecuteTime": {
     "end_time": "2025-02-19T13:16:16.981444Z",
     "start_time": "2025-02-19T13:16:16.957337Z"
    }
   },
   "cell_type": "code",
   "source": [
    "# Очистка текста\n",
    "def cleaning_data(examples):\n",
    "    # Регулярное выражение для удаления всех символов, кроме букв и цифр\n",
    "    pattern = r'[^a-zA-Zа-яА-Я0-9 ]'\n",
    "    # Очистка текста в батче\n",
    "    examples[\"text\"] = [re.sub(pattern, '', text.lower()) for text in examples[\"text\"]]\n",
    "    return examples\n",
    "\n",
    "\n",
    "cleaning_dataset = dataset.map(cleaning_data, batched=True)"
   ],
   "id": "400e059c8ffc708a",
   "outputs": [],
   "execution_count": 27
  },
  {
   "metadata": {},
   "cell_type": "markdown",
   "source": "#### После очистки данные стали более упорядоченными, и теперь с ними можно эффективно работать.",
   "id": "1372587267ab5bf7"
  },
  {
   "metadata": {
    "ExecuteTime": {
     "end_time": "2025-02-19T13:16:17.053921Z",
     "start_time": "2025-02-19T13:16:16.996868Z"
    }
   },
   "cell_type": "code",
   "source": "print(f'Первый отзыв после очистки: {cleaning_dataset[\"train\"]['text'][0]}')",
   "id": "ee28d1525a597891",
   "outputs": [
    {
     "name": "stdout",
     "output_type": "stream",
     "text": [
      "Первый отзыв после очистки: i rented i am curiousyellow from my video store because of all the controversy that surrounded it when it was first released in 1967 i also heard that at first it was seized by us customs if it ever tried to enter this country therefore being a fan of films considered controversial i really had to see this for myselfbr br the plot is centered around a young swedish drama student named lena who wants to learn everything she can about life in particular she wants to focus her attentions to making some sort of documentary on what the average swede thought about certain political issues such as the vietnam war and race issues in the united states in between asking politicians and ordinary denizens of stockholm about their opinions on politics she has sex with her drama teacher classmates and married menbr br what kills me about i am curiousyellow is that 40 years ago this was considered pornographic really the sex and nudity scenes are few and far between even then its not shot like some cheaply made porno while my countrymen mind find it shocking in reality sex and nudity are a major staple in swedish cinema even ingmar bergman arguably their answer to good old boy john ford had sex scenes in his filmsbr br i do commend the filmmakers for the fact that any sex shown in the film is shown for artistic purposes rather than just to shock people and make money to be shown in pornographic theaters in america i am curiousyellow is a good film for anyone wanting to study the meat and potatoes no pun intended of swedish cinema but really this film doesnt have much of a plot\n"
     ]
    }
   ],
   "execution_count": 28
  },
  {
   "metadata": {},
   "cell_type": "markdown",
   "source": [
    "### 📌 Применяем токенизатор к полю `\"text\"` в данных\n",
    "\n",
    "**Токенизатор** — это инструмент, который преобразует текст в числовые представления, которые могут быть использованы нейронными сетями.\n",
    "\n",
    "---\n",
    "\n",
    "### Принцип работы токенизатора\n",
    "\n",
    "#### 1 Разбиение текста на токены\n",
    "Токенизатор делит текст на небольшие части — **токены**. Существуют два основных метода:\n",
    "\n",
    "**📌 Простое разбиение по словам**\n",
    "\n",
    "Каждое слово становится отдельным токеном:\n",
    "\n",
    "```plaintext\n",
    "[\"Привет\", \",\", \"мир\", \"!\"]\n",
    "```\n",
    "\n",
    "**📌 Подслово (Subword Tokenization)**\n",
    "\n",
    "Токенизатор использует алгоритмы, такие как **BPE (Byte Pair Encoding)** или **SentencePiece**, чтобы разбивать слова на подслова. Это помогает обработке **неизвестных слов**.\n",
    "\n",
    "```plaintext\n",
    "[\"При\", \"вет\", \",\", \"ми\", \"р\", \"!\"]\n",
    "```\n",
    "\n",
    "---\n",
    "\n",
    "#### 2 Преобразование токенов в ID\n",
    "Каждый токен сопоставляется с **уникальным числовым идентификатором (ID)**.\n",
    "Эти ID берутся из словаря токенизатора, созданного при предобучении модели.\n",
    "\n",
    "| Токен | ID |\n",
    "|-------|----|\n",
    "| \"Привет\" | 101 |\n",
    "| \",\" | 102 |\n",
    "| \"мир\" | 103 |\n",
    "| \"!\" | 104 |\n",
    "\n",
    "📌 Итоговый список ID для `\"Привет, мир!\"`:\n",
    "```plaintext\n",
    "[101, 102, 103, 104]\n",
    "```\n",
    "\n",
    "---\n",
    "\n",
    "#### 3 Добавление **специальных токенов**\n",
    "Некоторые модели (например, **RoBERTa**) требуют **дополнительных токенов**:\n",
    "\n",
    "- `[CLS]` — начало текста (используется в задачах классификации).\n",
    "- `[SEP]` — разделяет части текста (например, в задачах «вопрос-ответ»).\n",
    "- `[PAD]` — заполняет последовательности до одинаковой длины.\n",
    "\n",
    "---\n",
    "\n",
    "#### 4 `truncation=True`\n",
    "Обрезает текст до **максимальной длины**, если он слишком длинный.\n",
    "\n",
    "---\n",
    "\n",
    "#### 5 `padding=True`\n",
    "Добавляет **паддинг** (заполнение) до максимальной длины в батче, чтобы все входные данные имели одинаковую длину.\n",
    "\n",
    "**Пример работы паддинга**:\n",
    "Есть текст `\"Привет, мир!\"`.\n",
    "Допустим, модель требует, чтобы длина входных данных была **7 токенов**.\n",
    "Тогда токенизированный текст **дополняется нулями**:\n",
    "```plaintext\n",
    "[1, 1, 1, 1, 0, 0, 0]\n",
    "```\n",
    "Здесь **0** — это паддинг-токены, которые **не влияют на результат**, а просто выравнивают последовательности.\n",
    "\n",
    "---\n",
    "\n",
    "#### 6 `attention_mask`\n",
    "**Attention mask** показывает, какие токены являются реальными, а какие — **паддингом**.\n",
    "\n",
    "📌 Пример:\n",
    "```plaintext\n",
    "Токены:        [<s>, 101, 102, 103, </s>, 0, 0]\n",
    "Attention Mask: [  1,   1,   1,   1,    1, 0, 0]\n",
    "```\n",
    "- **1** означает реальный токен.\n",
    "- **0** означает паддинг.\n",
    "\n",
    "Это помогает модели **игнорировать** лишние паддинг-токены при обучении."
   ],
   "id": "cff70577d79f893d"
  },
  {
   "metadata": {
    "ExecuteTime": {
     "end_time": "2025-02-19T13:16:20.507518Z",
     "start_time": "2025-02-19T13:16:17.070081Z"
    }
   },
   "cell_type": "code",
   "source": [
    "# Предобученный токинизатор\n",
    "tokenizer = RobertaTokenizer.from_pretrained(model)\n",
    "\n",
    "\n",
    "# Токинизируем текст\n",
    "def tokenize_function(examples):\n",
    "    return tokenizer(examples[\"text\"], truncation=True, padding=True)\n",
    "\n",
    "\n",
    "tokenized_dataset = cleaning_dataset.map(tokenize_function, batched=True)\n",
    "# Преобразуем данные в тензор для PyTorch\n",
    "tokenized_dataset.set_format(type='torch', columns=['input_ids', 'attention_mask', 'label'])"
   ],
   "id": "bbc77ba94f4b2482",
   "outputs": [],
   "execution_count": 29
  },
  {
   "metadata": {
    "ExecuteTime": {
     "end_time": "2025-02-19T13:16:20.527116Z",
     "start_time": "2025-02-19T13:16:20.523329Z"
    }
   },
   "cell_type": "code",
   "source": [
    "# Датасет после токинизации\n",
    "print(tokenized_dataset)"
   ],
   "id": "39162a606f531c61",
   "outputs": [
    {
     "name": "stdout",
     "output_type": "stream",
     "text": [
      "DatasetDict({\n",
      "    train: Dataset({\n",
      "        features: ['text', 'label', 'input_ids', 'attention_mask'],\n",
      "        num_rows: 25000\n",
      "    })\n",
      "    test: Dataset({\n",
      "        features: ['text', 'label', 'input_ids', 'attention_mask'],\n",
      "        num_rows: 25000\n",
      "    })\n",
      "    unsupervised: Dataset({\n",
      "        features: ['text', 'label', 'input_ids', 'attention_mask'],\n",
      "        num_rows: 50000\n",
      "    })\n",
      "})\n"
     ]
    }
   ],
   "execution_count": 30
  },
  {
   "metadata": {
    "ExecuteTime": {
     "end_time": "2025-02-19T13:16:20.677900Z",
     "start_time": "2025-02-19T13:16:20.541123Z"
    }
   },
   "cell_type": "code",
   "source": [
    "# Проверим данные\n",
    "print(f'После преобразования input_ids: {tokenized_dataset['train']['input_ids']}')\n",
    "print(f'После преобразования attention_mask: {tokenized_dataset['train']['attention_mask']}')\n",
    "print(f'После преобразования label: {tokenized_dataset['train']['label']}')"
   ],
   "id": "954b2a3606285fd2",
   "outputs": [
    {
     "name": "stdout",
     "output_type": "stream",
     "text": [
      "После преобразования input_ids: tensor([[    0,   118, 16425,  ...,     1,     1,     1],\n",
      "        [    0,   118,   524,  ...,     1,     1,     1],\n",
      "        [    0,  1594,   129,  ...,     1,     1,     1],\n",
      "        ...,\n",
      "        [    0,  9226,   822,  ...,     1,     1,     1],\n",
      "        [    0,   627, 18848,  ...,    41,   758,     2],\n",
      "        [    0,   627,   527,  ...,     1,     1,     1]])\n",
      "После преобразования attention_mask: tensor([[1, 1, 1,  ..., 0, 0, 0],\n",
      "        [1, 1, 1,  ..., 0, 0, 0],\n",
      "        [1, 1, 1,  ..., 0, 0, 0],\n",
      "        ...,\n",
      "        [1, 1, 1,  ..., 0, 0, 0],\n",
      "        [1, 1, 1,  ..., 1, 1, 1],\n",
      "        [1, 1, 1,  ..., 0, 0, 0]])\n",
      "После преобразования label: tensor([0, 0, 0,  ..., 1, 1, 1])\n"
     ]
    }
   ],
   "execution_count": 31
  },
  {
   "metadata": {
    "ExecuteTime": {
     "end_time": "2025-02-19T13:16:20.713534Z",
     "start_time": "2025-02-19T13:16:20.709617Z"
    }
   },
   "cell_type": "code",
   "source": [
    "# Разделение данных на тренировочную и тестовую\n",
    "train_dataset = tokenized_dataset[\"train\"]\n",
    "test_dataset = tokenized_dataset[\"test\"]"
   ],
   "id": "49440b00276d6a94",
   "outputs": [],
   "execution_count": 32
  },
  {
   "metadata": {
    "ExecuteTime": {
     "end_time": "2025-02-19T13:16:20.730300Z",
     "start_time": "2025-02-19T13:16:20.717279Z"
    }
   },
   "cell_type": "code",
   "source": [
    "# Инициализация датасетов для Dataloader\n",
    "train_dataset = IMDBDataset(train_dataset)\n",
    "test_dataset = IMDBDataset(test_dataset)"
   ],
   "id": "f334bc61358e027a",
   "outputs": [],
   "execution_count": 33
  },
  {
   "metadata": {
    "ExecuteTime": {
     "end_time": "2025-02-19T13:16:21.387069Z",
     "start_time": "2025-02-19T13:16:20.747048Z"
    }
   },
   "cell_type": "code",
   "source": [
    "# Инициализация предобученной модели BERT для классификации последовательностей\n",
    "# num_labels - указываем количество классов для классификации.\n",
    "model = RobertaForSequenceClassification.from_pretrained(model, num_labels=2)\n",
    "# Перевод модели на GPU\n",
    "model.to(device)"
   ],
   "id": "1960fbf3c842830b",
   "outputs": [
    {
     "name": "stderr",
     "output_type": "stream",
     "text": [
      "Some weights of RobertaForSequenceClassification were not initialized from the model checkpoint at roberta-base and are newly initialized: ['classifier.dense.bias', 'classifier.dense.weight', 'classifier.out_proj.bias', 'classifier.out_proj.weight']\n",
      "You should probably TRAIN this model on a down-stream task to be able to use it for predictions and inference.\n"
     ]
    },
    {
     "data": {
      "text/plain": [
       "RobertaForSequenceClassification(\n",
       "  (roberta): RobertaModel(\n",
       "    (embeddings): RobertaEmbeddings(\n",
       "      (word_embeddings): Embedding(50265, 768, padding_idx=1)\n",
       "      (position_embeddings): Embedding(514, 768, padding_idx=1)\n",
       "      (token_type_embeddings): Embedding(1, 768)\n",
       "      (LayerNorm): LayerNorm((768,), eps=1e-05, elementwise_affine=True)\n",
       "      (dropout): Dropout(p=0.1, inplace=False)\n",
       "    )\n",
       "    (encoder): RobertaEncoder(\n",
       "      (layer): ModuleList(\n",
       "        (0-11): 12 x RobertaLayer(\n",
       "          (attention): RobertaAttention(\n",
       "            (self): RobertaSdpaSelfAttention(\n",
       "              (query): Linear(in_features=768, out_features=768, bias=True)\n",
       "              (key): Linear(in_features=768, out_features=768, bias=True)\n",
       "              (value): Linear(in_features=768, out_features=768, bias=True)\n",
       "              (dropout): Dropout(p=0.1, inplace=False)\n",
       "            )\n",
       "            (output): RobertaSelfOutput(\n",
       "              (dense): Linear(in_features=768, out_features=768, bias=True)\n",
       "              (LayerNorm): LayerNorm((768,), eps=1e-05, elementwise_affine=True)\n",
       "              (dropout): Dropout(p=0.1, inplace=False)\n",
       "            )\n",
       "          )\n",
       "          (intermediate): RobertaIntermediate(\n",
       "            (dense): Linear(in_features=768, out_features=3072, bias=True)\n",
       "            (intermediate_act_fn): GELUActivation()\n",
       "          )\n",
       "          (output): RobertaOutput(\n",
       "            (dense): Linear(in_features=3072, out_features=768, bias=True)\n",
       "            (LayerNorm): LayerNorm((768,), eps=1e-05, elementwise_affine=True)\n",
       "            (dropout): Dropout(p=0.1, inplace=False)\n",
       "          )\n",
       "        )\n",
       "      )\n",
       "    )\n",
       "  )\n",
       "  (classifier): RobertaClassificationHead(\n",
       "    (dense): Linear(in_features=768, out_features=768, bias=True)\n",
       "    (dropout): Dropout(p=0.1, inplace=False)\n",
       "    (out_proj): Linear(in_features=768, out_features=2, bias=True)\n",
       "  )\n",
       ")"
      ]
     },
     "execution_count": 34,
     "metadata": {},
     "output_type": "execute_result"
    }
   ],
   "execution_count": 34
  },
  {
   "metadata": {
    "ExecuteTime": {
     "end_time": "2025-02-19T13:16:21.408517Z",
     "start_time": "2025-02-19T13:16:21.403055Z"
    }
   },
   "cell_type": "code",
   "source": [
    "# Оптимизатор и функция потерь\n",
    "optimizer = torch.optim.AdamW(model.parameters(), lr=2e-5)\n",
    "scheduler = torch.optim.lr_scheduler.StepLR(optimizer, step_size=1, gamma=0.1)"
   ],
   "id": "51601a8a0e1f931f",
   "outputs": [],
   "execution_count": 35
  },
  {
   "metadata": {
    "ExecuteTime": {
     "end_time": "2025-02-19T13:16:21.436814Z",
     "start_time": "2025-02-19T13:16:21.423319Z"
    }
   },
   "cell_type": "code",
   "source": [
    "# Подаём данные в DataLoader\n",
    "train_dataloader = DataLoader(train_dataset, batch_size=16, shuffle=True, pin_memory=False)\n",
    "test_dataloader = DataLoader(test_dataset, batch_size=16, pin_memory=False)"
   ],
   "id": "30cf70292ebb9858",
   "outputs": [],
   "execution_count": 36
  },
  {
   "metadata": {},
   "cell_type": "markdown",
   "source": [
    "\n",
    "```python\n",
    "torch.cuda.empty_cache()\n",
    "```\n",
    "🔹 **Очищает неиспользуемую память GPU**, освобождая её от ненужных тензоров. Это помогает **избежать утечек памяти**.\n",
    "\n",
    "---\n",
    "\n",
    "```python\n",
    "epochs = 3\n",
    "for epoch in range(epochs):\n",
    "```\n",
    "🔹 Цикл по **количеству эпох** (проходов по всему датасету). Здесь у нас 3 эпохи.\n",
    "\n",
    "---\n",
    "\n",
    "```python\n",
    "torch.cuda.empty_cache()\n",
    "```\n",
    "🔹 Очищаем кэш памяти GPU перед началом каждой эпохи, чтобы избежать избыточного использования памяти.\n",
    "\n",
    "---\n",
    "\n",
    "```python\n",
    "model.train()\n",
    "```\n",
    "🔹 Переключаем модель в **режим обучения**. Это влияет на слои, такие как `Dropout` и `BatchNorm`, которые ведут себя по-разному в режиме `train()` и `eval()`.\n",
    "\n",
    "---\n",
    "\n",
    "```python\n",
    "total_loss = 0\n",
    "correct_predictions = 0\n",
    "total_prediction = 0\n",
    "```\n",
    "🔹 **Обнуляем метрики** перед каждой эпохой:\n",
    "- `total_loss` — накопленная функция потерь.\n",
    "- `correct_predictions` — количество правильных предсказаний.\n",
    "- `total_prediction` — общее количество примеров.\n",
    "\n",
    "---\n",
    "\n",
    "```python\n",
    "for batch_idx, batch in enumerate(train_dataloader):\n",
    "```\n",
    "🔹 Проходим по **батчам** тренировочного датасета.\n",
    "\n",
    "---\n",
    "\n",
    "```python\n",
    "optimizer.zero_grad()\n",
    "```\n",
    "🔹 **Обнуляем градиенты** перед вычислением нового градиента, чтобы избежать накопления градиентов от предыдущих шагов.\n",
    "\n",
    "---\n",
    "\n",
    "```python\n",
    "input_ids = batch['input_ids'].to(device)\n",
    "attention_mask = batch['attention_mask'].to(device)\n",
    "labels = batch['label'].to(device)\n",
    "```\n",
    "🔹 **Перемещаем данные на GPU** (если доступен):\n",
    "- `input_ids` — индексы токенов.\n",
    "- `attention_mask` — маска внимания.\n",
    "- `labels` — истинные метки классов.\n",
    "\n",
    "---\n",
    "\n",
    "```python\n",
    "outputs = model(input_ids=input_ids, attention_mask=attention_mask, labels=labels)\n",
    "loss = outputs.loss\n",
    "logits = outputs.logits\n",
    "```\n",
    "🔹 **Прямой проход** через модель:\n",
    "- `outputs.loss` — вычисленная функция потерь.\n",
    "- `outputs.logits` — предсказанные логиты (до softmax).\n",
    "\n",
    "---\n",
    "\n",
    "```python\n",
    "for param in model.parameters():\n",
    "    if param.grad is not None and torch.isnan(param.grad).any():\n",
    "        print(\"NaN в градиентах!\")\n",
    "        torch.nn.utils.clip_grad_norm_(model.parameters(), max_norm=1.0)\n",
    "```\n",
    "🔹 **Проверка на NaN в градиентах** (если градиент стал `NaN`, обрезаем его).\n",
    "⚠️ Это помогает избежать проблем с нестабильностью обучения.\n",
    "\n",
    "---\n",
    "\n",
    "```python\n",
    "loss.backward()\n",
    "```\n",
    "🔹 **Обратное распространение ошибки** — вычисление градиентов весов.\n",
    "\n",
    "---\n",
    "\n",
    "```python\n",
    "clip_grad_norm_(model.parameters(), max_norm=1.0)\n",
    "```\n",
    "🔹 **Ограничение градиентов** (gradient clipping).\n",
    "Это предотвращает **взрыв градиентов**, ограничивая их норму `max_norm=1.0`. Взрывом градиентов называется ситуация, когда градиенты становятся слишком большие во время обратного распространения ошибки.\n",
    "\n",
    "---\n",
    "\n",
    "```python\n",
    "optimizer.step()\n",
    "```\n",
    "🔹 **Обновление параметров модели** с использованием оптимизатора.\n",
    "\n",
    "---\n",
    "\n",
    "```python\n",
    "total_loss += loss.item()\n",
    "_, predicted = torch.max(logits, dim=1)\n",
    "correct_predictions += (predicted == labels).sum().item()\n",
    "total_prediction += labels.size(0)\n",
    "```\n",
    "🔹 **Обновляем метрики**:\n",
    "- `total_loss` накапливает функцию потерь.\n",
    "- `predicted` получает предсказанные классы (`argmax` по логитам).`dim=1` означает, что мы ищем максимум по столбцам (по классам) для каждого примера.\n",
    "- `correct_predictions` увеличивается, если предсказание совпадает с истинным `label`.\n",
    "- `total_prediction` считает общее число примеров."
   ],
   "id": "f0abd6a07ff108dd"
  },
  {
   "metadata": {
    "ExecuteTime": {
     "end_time": "2025-02-19T13:42:39.114971Z",
     "start_time": "2025-02-19T13:16:21.451617Z"
    }
   },
   "cell_type": "code",
   "source": [
    "torch.cuda.empty_cache()\n",
    "\n",
    "# Обучения модели\n",
    "epochs = 3\n",
    "for epoch in range(epochs):\n",
    "    torch.cuda.empty_cache()\n",
    "    model.train()\n",
    "    total_loss = 0\n",
    "    correct_predictions = 0\n",
    "    total_prediction = 0\n",
    "\n",
    "    for batch_idx, batch in enumerate(train_dataloader):\n",
    "        optimizer.zero_grad()\n",
    "        input_ids = batch['input_ids'].to(device)\n",
    "        attention_mask = batch['attention_mask'].to(device)\n",
    "        labels = batch['label'].to(device)\n",
    "\n",
    "        outputs = model(input_ids=input_ids, attention_mask=attention_mask, labels=labels)\n",
    "        loss = outputs.loss\n",
    "        logits = outputs.logits\n",
    "\n",
    "        for param in model.parameters():\n",
    "            if param.grad is not None and torch.isnan(param.grad).any():\n",
    "                print(\"NaN в градиентах!\")\n",
    "                torch.nn.utils.clip_grad_norm_(model.parameters(), max_norm=1.0)\n",
    "\n",
    "        loss.backward()\n",
    "\n",
    "        # Нормируем градиенты\n",
    "        clip_grad_norm_(model.parameters(), max_norm=1.0)\n",
    "\n",
    "        optimizer.step()\n",
    "        total_loss += loss.item()\n",
    "        _, predicted = torch.max(logits, dim=1)\n",
    "        correct_predictions += (predicted == labels).sum().item()\n",
    "        total_prediction += labels.size(0)\n",
    "    accuracy = correct_predictions / total_prediction\n",
    "    print(f'Эпоха {epoch + 1}/{epochs}, Точность: {accuracy:.2f}, Потери: {total_loss / len(train_dataloader):.2f}')"
   ],
   "id": "6960515325710c76",
   "outputs": [
    {
     "name": "stdout",
     "output_type": "stream",
     "text": [
      "Эпоха 1/3, Точность: 0.91, Потери: 0.25\n",
      "Эпоха 2/3, Точность: 0.95, Потери: 0.17\n",
      "Эпоха 3/3, Точность: 0.97, Потери: 0.12\n"
     ]
    }
   ],
   "execution_count": 37
  },
  {
   "metadata": {
    "ExecuteTime": {
     "end_time": "2025-02-19T13:42:39.767033Z",
     "start_time": "2025-02-19T13:42:39.150941Z"
    }
   },
   "cell_type": "code",
   "source": [
    "# Сохранение модели\n",
    "model_save_dir = 'models/roberta_base_finetuned'\n",
    "model.save_pretrained(model_save_dir)\n",
    "tokenizer.save_pretrained(model_save_dir)\n",
    "print(f\"Модель и токенизатор успешно сохранены в директории: {model_save_dir}\")"
   ],
   "id": "9ad09af2dd1df677",
   "outputs": [
    {
     "name": "stdout",
     "output_type": "stream",
     "text": [
      "Модель и токенизатор успешно сохранены в директории: models/roberta_base_finetuned\n"
     ]
    }
   ],
   "execution_count": 38
  },
  {
   "metadata": {
    "ExecuteTime": {
     "end_time": "2025-02-19T13:45:28.338482Z",
     "start_time": "2025-02-19T13:42:39.810444Z"
    }
   },
   "cell_type": "code",
   "source": [
    "torch.cuda.empty_cache()\n",
    "model_save_dir = 'models/roberta_base_finetuned'\n",
    "# Загружаем модель\n",
    "model = RobertaForSequenceClassification.from_pretrained(model_save_dir).to(device)\n",
    "model.eval()\n",
    "print(\"Модель успешно загружена.\")\n",
    "\n",
    "correct_predictions = 0\n",
    "total_prediction = 0\n",
    "\n",
    "# Оценка модели\n",
    "with torch.no_grad():\n",
    "    for batch in test_dataloader:\n",
    "        input_ids = batch['input_ids'].to(device)\n",
    "        attention_mask = batch['attention_mask'].to(device)\n",
    "        labels = batch['label'].to(device)\n",
    "\n",
    "        outputs = model(input_ids=input_ids, attention_mask=attention_mask, labels=labels)\n",
    "        logits = outputs.logits\n",
    "\n",
    "        _, predicted = torch.max(logits, dim=1)\n",
    "        correct_predictions += (predicted == labels).sum().item()\n",
    "        total_prediction += labels.size(0)\n",
    "accuracy = correct_predictions / total_prediction\n",
    "print(f'Точность на тестовой выборки: {accuracy:.2f}')"
   ],
   "id": "d3ce3981fb478c69",
   "outputs": [
    {
     "name": "stdout",
     "output_type": "stream",
     "text": [
      "Модель успешно загружена.\n",
      "Точность на тестовой выборки: 0.95\n"
     ]
    }
   ],
   "execution_count": 39
  }
 ],
 "metadata": {
  "kernelspec": {
   "display_name": "Python [conda env:base] *",
   "language": "python",
   "name": "conda-base-py"
  },
  "language_info": {
   "codemirror_mode": {
    "name": "ipython",
    "version": 2
   },
   "file_extension": ".py",
   "mimetype": "text/x-python",
   "name": "python",
   "nbconvert_exporter": "python",
   "pygments_lexer": "ipython2",
   "version": "2.7.6"
  }
 },
 "nbformat": 4,
 "nbformat_minor": 5
}
